{
 "cells": [
  {
   "cell_type": "code",
   "execution_count": 2,
   "metadata": {
    "collapsed": true,
    "deletable": true,
    "editable": true
   },
   "outputs": [],
   "source": [
    "import time\n",
    "import numpy\n",
    "from sklearn.neighbors import KNeighborsRegressor\n",
    "from sklearn.metrics import mean_squared_error\n",
    "import matplotlib\n",
    "\n",
    "from backward import BackwardSelector\n",
    "\n",
    "n_features = 5\n",
    "\n",
    "# training data\n",
    "print(\"Loading training data ...\")\n",
    "data_train = numpy.genfromtxt(\"../data/hw5/neighbors/train.csv\", comments=\"#\", delimiter=\",\")\n",
    "Xtrain, ytrain = data_train[:,:-1], data_train[:,-1]\n",
    "print(\"Loaded training data: n=%i, d=%i\" % (Xtrain.shape[0], Xtrain.shape[1]))\n",
    "\n",
    "# validation data\n",
    "print(\"Loading validation data ...\")\n",
    "data_validation = numpy.genfromtxt(\"../data/hw5/neighbors/validation.csv\", comments=\"#\", delimiter=\",\")\n",
    "Xval, yval = data_validation[:,:-1], data_validation[:,-1]\n",
    "print(\"Loaded validation data: n=%i, d=%i\" % (Xval.shape[0], Xval.shape[1]))\n",
    "\n",
    "# training phase\n",
    "print(\"Fitting model ...\")\n",
    "model = KNeighborsRegressor(n_neighbors=10, algorithm=\"kd_tree\")\n",
    "nnselector = BackwardSelector(model, n_features)\n",
    "nnselector.fit(Xtrain, ytrain, Xval, yval)\n",
    "print(\"Model fitted! Selected features: %s\" % str(nnselector.features))\n",
    "\n",
    "# testing phase\n",
    "print(\"Loading testing data ...\")\n",
    "data_test = numpy.genfromtxt(\"../data/hw5/neighbors/test.csv\", comments=\"#\", delimiter=\",\")\n",
    "Xtest, ytest = data_test[:,:-1], data_test[:,-1]\n",
    "print(\"Loaded test data: n=%i, d=%i\" % (Xtest.shape[0], Xtest.shape[1]))\n",
    "\n",
    "print(\"Applying model ...\")\n",
    "start = time.time()\n",
    "preds = nnselector.predict(Xtest)\n",
    "end = time.time()\n",
    "\n",
    "# output\n",
    "print(\"Predictions computed for %i patterns ...!\" % len(preds))\n",
    "print(\"Mean squared error: %f\" % mean_squared_error(ytest, preds))\n",
    "print(\"Runtime for testing phase: %f\" % (end-start))\n",
    "\n",
    "import matplotlib.pyplot as plt\n",
    "plt.plot(nnselector.get_validation_errors())\n",
    "plt.ylabel('validation errors')\n",
    "plt.savefig(\"validation_errors.png\")\n"
   ]
  },
  {
   "cell_type": "code",
   "execution_count": null,
   "metadata": {
    "collapsed": true,
    "deletable": true,
    "editable": true
   },
   "outputs": [],
   "source": []
  }
 ],
 "metadata": {
  "kernelspec": {
   "display_name": "Python 2",
   "language": "python",
   "name": "python2"
  },
  "language_info": {
   "codemirror_mode": {
    "name": "ipython",
    "version": 2
   },
   "file_extension": ".py",
   "mimetype": "text/x-python",
   "name": "python",
   "nbconvert_exporter": "python",
   "pygments_lexer": "ipython2",
   "version": "2.7.12"
  }
 },
 "nbformat": 4,
 "nbformat_minor": 2
}
