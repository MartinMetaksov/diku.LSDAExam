{
 "cells": [
  {
   "cell_type": "code",
   "execution_count": 8,
   "metadata": {
    "collapsed": true
   },
   "outputs": [],
   "source": [
    "# I have used 3_nn_selection.py, available on Absalon as a base for this file"
   ]
  },
  {
   "cell_type": "code",
   "execution_count": 9,
   "metadata": {
    "collapsed": true,
    "deletable": true,
    "editable": true
   },
   "outputs": [],
   "source": [
    "import time\n",
    "import numpy\n",
    "from sklearn.neighbors import KNeighborsRegressor\n",
    "from sklearn.metrics import mean_squared_error\n",
    "import matplotlib\n",
    "from backward import BackwardSelector"
   ]
  },
  {
   "cell_type": "code",
   "execution_count": 10,
   "metadata": {
    "collapsed": true,
    "deletable": true,
    "editable": true
   },
   "outputs": [],
   "source": [
    "n_features = 5"
   ]
  },
  {
   "cell_type": "code",
   "execution_count": 11,
   "metadata": {
    "collapsed": false
   },
   "outputs": [
    {
     "name": "stdout",
     "output_type": "stream",
     "text": [
      "Loading training data ...\n",
      "Loaded training data: n=100000, d=15\n",
      "Loading validation data ...\n",
      "Loaded validation data: n=100000, d=15\n",
      "Loading testing data ...\n",
      "Loaded test data: n=1000000, d=15\n"
     ]
    }
   ],
   "source": [
    "# Loading data\n",
    "# training data\n",
    "print(\"Loading training data ...\")\n",
    "data_train = numpy.genfromtxt(\"../data/neighbors/train.csv\", comments=\"#\", delimiter=\",\")\n",
    "Xtrain, ytrain = data_train[:,:-1], data_train[:,-1]\n",
    "print(\"Loaded training data: n=%i, d=%i\" % (Xtrain.shape[0], Xtrain.shape[1]))\n",
    "\n",
    "# validation data\n",
    "print(\"Loading validation data ...\")\n",
    "data_validation = numpy.genfromtxt(\"../data/neighbors/validation.csv\", comments=\"#\", delimiter=\",\")\n",
    "Xval, yval = data_validation[:,:-1], data_validation[:,-1]\n",
    "print(\"Loaded validation data: n=%i, d=%i\" % (Xval.shape[0], Xval.shape[1]))\n",
    "\n",
    "# test data\n",
    "print(\"Loading testing data ...\")\n",
    "data_test = numpy.genfromtxt(\"../data/neighbors/test.csv\", comments=\"#\", delimiter=\",\")\n",
    "Xtest, ytest = data_test[:,:-1], data_test[:,-1]\n",
    "print(\"Loaded test data: n=%i, d=%i\" % (Xtest.shape[0], Xtest.shape[1]))"
   ]
  },
  {
   "cell_type": "code",
   "execution_count": 12,
   "metadata": {
    "collapsed": false
   },
   "outputs": [
    {
     "name": "stdout",
     "output_type": "stream",
     "text": [
      "Fitting model ...\n",
      "Blacklisting a new feature ...\n",
      "\tValidation error without feature 0: 0.190228\n",
      "\tValidation error without feature 1: 0.191931\n",
      "\tValidation error without feature 2: 0.192903\n",
      "\tValidation error without feature 3: 0.191361\n",
      "\tValidation error without feature 4: 0.191947\n",
      "\tValidation error without feature 5: 0.190062\n",
      "\tValidation error without feature 6: 0.192118\n",
      "\tValidation error without feature 7: 0.191407\n",
      "\tValidation error without feature 8: 0.191598\n",
      "\tValidation error without feature 9: 0.191030\n",
      "\tValidation error without feature 10: 0.185271\n",
      "\tValidation error without feature 11: 0.192776\n",
      "\tValidation error without feature 12: 0.191530\n",
      "\tValidation error without feature 13: 0.191099\n",
      "\tValidation error without feature 14: 0.189067\n",
      "Worst feature index is: 10. Worst validation error is: 0.185271\n",
      "Blacklisting a new feature ...\n",
      "\tValidation error without feature 0: 0.184121\n",
      "\tValidation error without feature 1: 0.185921\n",
      "\tValidation error without feature 2: 0.186377\n",
      "\tValidation error without feature 3: 0.185745\n",
      "\tValidation error without feature 4: 0.186850\n",
      "\tValidation error without feature 5: 0.184286\n",
      "\tValidation error without feature 6: 0.185394\n",
      "\tValidation error without feature 7: 0.186232\n",
      "\tValidation error without feature 8: 0.186133\n",
      "\tValidation error without feature 9: 0.186115\n",
      "\tValidation error without feature 11: 0.186079\n",
      "\tValidation error without feature 12: 0.185684\n",
      "\tValidation error without feature 13: 0.186357\n",
      "\tValidation error without feature 14: 0.183237\n",
      "Worst feature index is: 14. Worst validation error is: 0.183237\n",
      "Blacklisting a new feature ...\n",
      "\tValidation error without feature 0: 0.181658\n",
      "\tValidation error without feature 1: 0.183869\n",
      "\tValidation error without feature 2: 0.184574\n",
      "\tValidation error without feature 3: 0.183945\n",
      "\tValidation error without feature 4: 0.183993\n",
      "\tValidation error without feature 5: 0.181423\n",
      "\tValidation error without feature 6: 0.183433\n",
      "\tValidation error without feature 7: 0.184297\n",
      "\tValidation error without feature 8: 0.183429\n",
      "\tValidation error without feature 9: 0.183893\n",
      "\tValidation error without feature 11: 0.184799\n",
      "\tValidation error without feature 12: 0.184123\n",
      "\tValidation error without feature 13: 0.184086\n",
      "Worst feature index is: 5. Worst validation error is: 0.181423\n",
      "Blacklisting a new feature ...\n",
      "\tValidation error without feature 0: 0.204531\n",
      "\tValidation error without feature 1: 0.182042\n",
      "\tValidation error without feature 2: 0.182797\n",
      "\tValidation error without feature 3: 0.182403\n",
      "\tValidation error without feature 4: 0.182403\n",
      "\tValidation error without feature 6: 0.181602\n",
      "\tValidation error without feature 7: 0.182086\n",
      "\tValidation error without feature 8: 0.182290\n",
      "\tValidation error without feature 9: 0.182542\n",
      "\tValidation error without feature 11: 0.182346\n",
      "\tValidation error without feature 12: 0.181836\n",
      "\tValidation error without feature 13: 0.182578\n",
      "Worst feature index is: 6. Worst validation error is: 0.181602\n",
      "Blacklisting a new feature ...\n",
      "\tValidation error without feature 0: 0.203741\n",
      "\tValidation error without feature 1: 0.184478\n",
      "\tValidation error without feature 2: 0.182887\n",
      "\tValidation error without feature 3: 0.182774\n",
      "\tValidation error without feature 4: 0.182787\n",
      "\tValidation error without feature 7: 0.182552\n",
      "\tValidation error without feature 8: 0.182604\n",
      "\tValidation error without feature 9: 0.182594\n",
      "\tValidation error without feature 11: 0.183718\n",
      "\tValidation error without feature 12: 0.182668\n",
      "\tValidation error without feature 13: 0.182524\n",
      "Worst feature index is: 13. Worst validation error is: 0.182524\n",
      "Blacklisting a new feature ...\n",
      "\tValidation error without feature 0: 0.204606\n",
      "\tValidation error without feature 1: 0.184858\n",
      "\tValidation error without feature 2: 0.183796\n",
      "\tValidation error without feature 3: 0.183109\n",
      "\tValidation error without feature 4: 0.183820\n",
      "\tValidation error without feature 7: 0.183518\n",
      "\tValidation error without feature 8: 0.184228\n",
      "\tValidation error without feature 9: 0.183654\n",
      "\tValidation error without feature 11: 0.184303\n",
      "\tValidation error without feature 12: 0.183414\n",
      "Worst feature index is: 3. Worst validation error is: 0.183109\n",
      "Blacklisting a new feature ...\n",
      "\tValidation error without feature 0: 0.204577\n",
      "\tValidation error without feature 1: 0.185748\n",
      "\tValidation error without feature 2: 0.184931\n",
      "\tValidation error without feature 4: 0.183968\n",
      "\tValidation error without feature 7: 0.184057\n",
      "\tValidation error without feature 8: 0.188535\n",
      "\tValidation error without feature 9: 0.183939\n",
      "\tValidation error without feature 11: 0.185123\n",
      "\tValidation error without feature 12: 0.183874\n",
      "Worst feature index is: 12. Worst validation error is: 0.183874\n",
      "Blacklisting a new feature ...\n",
      "\tValidation error without feature 0: 0.206170\n",
      "\tValidation error without feature 1: 0.186341\n",
      "\tValidation error without feature 2: 0.186215\n",
      "\tValidation error without feature 4: 0.184409\n",
      "\tValidation error without feature 7: 0.185487\n",
      "\tValidation error without feature 8: 0.189020\n",
      "\tValidation error without feature 9: 0.184607\n",
      "\tValidation error without feature 11: 0.185987\n",
      "Worst feature index is: 4. Worst validation error is: 0.184409\n",
      "Blacklisting a new feature ...\n",
      "\tValidation error without feature 0: 0.206919\n",
      "\tValidation error without feature 1: 0.187099\n",
      "\tValidation error without feature 2: 0.187595\n",
      "\tValidation error without feature 7: 0.186333\n",
      "\tValidation error without feature 8: 0.190492\n",
      "\tValidation error without feature 9: 0.194782\n",
      "\tValidation error without feature 11: 0.186237\n",
      "Worst feature index is: 11. Worst validation error is: 0.186237\n",
      "Blacklisting a new feature ...\n",
      "\tValidation error without feature 0: 0.205344\n",
      "\tValidation error without feature 1: 0.200265\n",
      "\tValidation error without feature 2: 0.189773\n",
      "\tValidation error without feature 7: 0.188903\n",
      "\tValidation error without feature 8: 0.192508\n",
      "\tValidation error without feature 9: 0.196237\n",
      "Worst feature index is: 7. Worst validation error is: 0.188903\n",
      "Model fitted! Selected features: [1 1 1 0 0 0 0 0 1 1 0 0 0 0 0]\n"
     ]
    }
   ],
   "source": [
    "# training phase\n",
    "print(\"Fitting model ...\")\n",
    "model = KNeighborsRegressor(n_neighbors=10, algorithm=\"kd_tree\")\n",
    "nnselector = BackwardSelector(model, n_features)\n",
    "nnselector.fit(Xtrain, ytrain, Xval, yval)\n",
    "print(\"Model fitted! Selected features: %s\" % str(nnselector.features))"
   ]
  },
  {
   "cell_type": "code",
   "execution_count": 16,
   "metadata": {
    "collapsed": false
   },
   "outputs": [
    {
     "name": "stdout",
     "output_type": "stream",
     "text": [
      "Applying model ...\n"
     ]
    }
   ],
   "source": [
    "# testing phase\n",
    "print(\"Applying model ...\")\n",
    "preds = nnselector.predict(Xtest)"
   ]
  },
  {
   "cell_type": "code",
   "execution_count": 14,
   "metadata": {
    "collapsed": false
   },
   "outputs": [
    {
     "name": "stdout",
     "output_type": "stream",
     "text": [
      "Predictions computed for 1000000 patterns ...!\n",
      "Mean squared error: 0.223736\n",
      "Runtime for testing phase: 32.247502\n"
     ]
    }
   ],
   "source": [
    "# output\n",
    "print(\"Predictions computed for %i patterns ...!\" % len(preds))\n",
    "print(\"Mean squared error: %f\" % mean_squared_error(ytest, preds))"
   ]
  },
  {
   "cell_type": "code",
   "execution_count": null,
   "metadata": {
    "collapsed": true
   },
   "outputs": [],
   "source": []
  }
 ],
 "metadata": {
  "kernelspec": {
   "display_name": "Python 2",
   "language": "python",
   "name": "python2"
  },
  "language_info": {
   "codemirror_mode": {
    "name": "ipython",
    "version": 2
   },
   "file_extension": ".py",
   "mimetype": "text/x-python",
   "name": "python",
   "nbconvert_exporter": "python",
   "pygments_lexer": "ipython2",
   "version": "2.7.12"
  }
 },
 "nbformat": 4,
 "nbformat_minor": 2
}
